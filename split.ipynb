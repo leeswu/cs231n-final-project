{
 "cells": [
  {
   "cell_type": "code",
   "execution_count": null,
   "metadata": {},
   "outputs": [],
   "source": [
    "import random\n",
    "\n",
    "def split_train_test(train_file, test_file, test_ratio=0.1):\n",
    "    # Read the train.txt file\n",
    "    with open(train_file, 'r') as f:\n",
    "        lines = f.readlines()\n",
    "\n",
    "    # Shuffle the lines randomly\n",
    "    random.shuffle(lines)\n",
    "\n",
    "    # Calculate the number of test samples\n",
    "    num_test_samples = int(len(lines) * test_ratio)\n",
    "\n",
    "    # Split the lines into train and test sets\n",
    "    test_lines = lines[:num_test_samples]\n",
    "    train_lines = lines[num_test_samples:]\n",
    "\n",
    "    # Write the test lines to test.txt\n",
    "    with open(test_file, 'w+') as f:\n",
    "        test_lines = sorted(test_lines, key=lambda x:int(x.split()[1]))\n",
    "        f.writelines(test_lines)\n",
    "\n",
    "    # Write the remaining train lines back to new split_train.txt\n",
    "    with open(train_file, 'w+') as f:\n",
    "        train_lines = sorted(train_lines, key=lambda x:int(x.split()[1]))\n",
    "        f.writelines(train_lines)"
   ]
  },
  {
   "cell_type": "code",
   "execution_count": null,
   "metadata": {},
   "outputs": [],
   "source": [
    "import os\n",
    "import shutil\n",
    "\n",
    "def move_files(train_dir, test_dir, test_file):\n",
    "    # Create the test directory if it doesn't exist\n",
    "    os.makedirs(test_dir, exist_ok=True)\n",
    "\n",
    "    # Read each line in test.txt and move the files from train/ to test/\n",
    "    with open(test_file, 'r') as file:\n",
    "        for line in file:\n",
    "            # Extract the file name (assuming the format is 'filename label')\n",
    "            filename = line.strip().split()[0]\n",
    "\n",
    "            # Define the source and destination paths\n",
    "            src_path = os.path.join(train_dir, filename)\n",
    "            dest_path = os.path.join(test_dir, filename)\n",
    "\n",
    "            # Move the file from the train directory to the test directory\n",
    "            if os.path.isfile(src_path):\n",
    "                shutil.move(src_path, dest_path)\n",
    "                print(f\"Moved: {filename} from {src_path} to {dest_path}\")\n",
    "            else:\n",
    "                print(f\"File not found: {filename}\")\n",
    "\n",
    "    print(f\"Files moved to {test_dir}.\")\n",
    "    \n",
    "# return all test videos to train in order to make a new split\n",
    "def return_files(train_dir, test_dir, test_file):\n",
    "    move_files(test_dir, train_dir, test_file)"
   ]
  },
  {
   "cell_type": "code",
   "execution_count": null,
   "metadata": {},
   "outputs": [],
   "source": [
    "train_file = \"./data/k700-2020/updated_splits/train.txt\"\n",
    "test_file = \"./data/k700-2020/updated_splits/test.txt\"\n",
    "\n",
    "train_dir = \"./data/k700-2020/updated_splits/train\"\n",
    "test_dir = \"./data/k700-2020/updated_splits/test\""
   ]
  },
  {
   "cell_type": "code",
   "execution_count": null,
   "metadata": {},
   "outputs": [],
   "source": [
    "# create a new test_file by splitting off train_file\n",
    "split_train_test(train_file, test_file, test_ratio=0.1)\n",
    "\n",
    "# move files based on the test_file\n",
    "move_files(train_dir, test_dir, test_file)"
   ]
  },
  {
   "cell_type": "code",
   "execution_count": null,
   "metadata": {},
   "outputs": [],
   "source": [
    "# return the files back to train based on the test file\n",
    "# run this before creating a new test split\n",
    "return_files(train_dir, test_dir, test_file)"
   ]
  },
  {
   "cell_type": "code",
   "execution_count": null,
   "metadata": {},
   "outputs": [],
   "source": [
    "# Create smaller versions of train/val/test split\n",
    "\n",
    "train_file = \"./data/k700-2020/updated_splits/train.txt\"\n",
    "val_file = \"./data/k700-2020/updated_splits/val.txt\"\n",
    "\n",
    "small_train_file = \"./data/k700-2020/updated_splits/small_train.txt\"\n",
    "small_val_file = \"./data/k700-2020/updated_splits/small_val.txt\"\n",
    "small_test_file = \"./data/k700-2020/updated_splits/small_test.txt\"\n",
    "\n",
    "train_dir = \"./data/k700-2020/updated_splits/train\"\n",
    "small_train_dir = \"./data/k700-2020/updated_splits/small_train\"\n",
    "\n",
    "val_dir = \"./data/k700-2020/updated_splits/val\"\n",
    "small_val_dir = \"./data/k700-2020/updated_splits/small_val\"\n",
    "\n",
    "small_test_dir = \"./data/k700-2020/updated_splits/small_test\""
   ]
  },
  {
   "cell_type": "code",
   "execution_count": null,
   "metadata": {},
   "outputs": [],
   "source": [
    "# split train_file -> small_train_file\n",
    "split_train_test(train_file, small_train_file, test_ratio=0.1)\n",
    "# move files train_dir -> small_train_dir based on small_train_file\n",
    "move_files(train_dir, small_train_dir, small_train_file)\n",
    "\n",
    "# split small_train_file -> small_test_file\n",
    "split_train_test(small_train_file, small_test_file, test_ratio=0.1)\n",
    "# move small_train_dir -> small_test_dir based on small_test_file\n",
    "move_files(small_train_dir, small_test_dir, small_test_file)\n",
    "\n",
    "# # split val_file -> small_val_file\n",
    "split_train_test(val_file, small_val_file, test_ratio=0.1)\n",
    "# move files val -> small_val based on small_val_file\n",
    "move_files(val_dir, small_val_dir, small_val_file)"
   ]
  },
  {
   "cell_type": "code",
   "execution_count": null,
   "metadata": {},
   "outputs": [],
   "source": []
  }
 ],
 "metadata": {
  "kernelspec": {
   "display_name": "Python 3 (ipykernel)",
   "language": "python",
   "name": "python3"
  },
  "language_info": {
   "codemirror_mode": {
    "name": "ipython",
    "version": 3
   },
   "file_extension": ".py",
   "mimetype": "text/x-python",
   "name": "python",
   "nbconvert_exporter": "python",
   "pygments_lexer": "ipython3",
   "version": "3.8.1"
  }
 },
 "nbformat": 4,
 "nbformat_minor": 2
}
